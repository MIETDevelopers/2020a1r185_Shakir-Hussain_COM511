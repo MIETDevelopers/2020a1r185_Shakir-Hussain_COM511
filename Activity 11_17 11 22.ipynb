{
 "cells": [
  {
   "cell_type": "code",
   "execution_count": 4,
   "id": "f01342e5",
   "metadata": {},
   "outputs": [
    {
     "name": "stdout",
     "output_type": "stream",
     "text": [
      "\n",
      "\n",
      "\n",
      "List of Students\n",
      "\n",
      "Name :  Anil\n",
      "RollNo :  10\n",
      "Marks :  98\n",
      "\n",
      "\n",
      "Name :  Barghaw\n",
      "RollNo :  52\n",
      "Marks :  90\n",
      "\n",
      "\n",
      "Name :  Chota beam\n",
      "RollNo :  83\n",
      "Marks :  70\n",
      "\n",
      "\n"
     ]
    }
   ],
   "source": [
    "#Simple student data management system program in python.\n",
    "\n",
    "# Create class \"Student\"\n",
    "\n",
    "class Student:\n",
    "    \n",
    "    def __init__(self, name, rollno, marks):   # constructor\n",
    "        self.name = name\n",
    "        self.rollno = rollno\n",
    "        self.marks = marks\n",
    "    def accept(self, Name, Rollno, marks):     # function used to create and append new student details\n",
    "        \n",
    "        obj = Student(Name, Rollno, marks)     \n",
    "        ls.append(obj)\n",
    "    \n",
    "    def display(self, obj):                    # function used to display the details stored            \n",
    "        print(\"Name : \", obj.name)\n",
    "        print(\"RollNo : \", obj.rollno)\n",
    "        print(\"Marks : \", obj.marks)\n",
    "        print(\"\\n\")\n",
    "        \n",
    " \n",
    " # Create a list to add Students\n",
    "ls = []\n",
    " # an object of Student class\n",
    "obj1 = Student('', 0, 0)\n",
    "\n",
    "obj1.accept(\"Anil\", 10, 98)\n",
    "obj1.accept(\"Barghaw\", 52, 90)\n",
    "obj1.accept(\"Chota beam\", 83, 70)\n",
    "\n",
    "print(\"\\n\")\n",
    "print(\"\\nList of Students\\n\")\n",
    "for i in range(ls.__len__()):\n",
    "    obj1.display(ls[i])\n",
    "        "
   ]
  },
  {
   "cell_type": "code",
   "execution_count": 21,
   "id": "0930d643",
   "metadata": {},
   "outputs": [
    {
     "ename": "NameError",
     "evalue": "name 'student' is not defined",
     "output_type": "error",
     "traceback": [
      "\u001b[1;31m---------------------------------------------------------------------------\u001b[0m",
      "\u001b[1;31mNameError\u001b[0m                                 Traceback (most recent call last)",
      "\u001b[1;32mC:\\WINDOWS\\TEMP/ipykernel_10660/625168826.py\u001b[0m in \u001b[0;36m<module>\u001b[1;34m\u001b[0m\n\u001b[0;32m      3\u001b[0m \u001b[1;31m# Create class Student\u001b[0m\u001b[1;33m\u001b[0m\u001b[1;33m\u001b[0m\u001b[0m\n\u001b[0;32m      4\u001b[0m \u001b[1;33m\u001b[0m\u001b[0m\n\u001b[1;32m----> 5\u001b[1;33m \u001b[1;32mclass\u001b[0m \u001b[0mStudent\u001b[0m\u001b[1;33m:\u001b[0m\u001b[1;33m\u001b[0m\u001b[1;33m\u001b[0m\u001b[0m\n\u001b[0m\u001b[0;32m      6\u001b[0m \u001b[1;33m\u001b[0m\u001b[0m\n\u001b[0;32m      7\u001b[0m     \u001b[1;32mdef\u001b[0m \u001b[0m__init__\u001b[0m\u001b[1;33m(\u001b[0m\u001b[0mself\u001b[0m\u001b[1;33m,\u001b[0m \u001b[0mname\u001b[0m\u001b[1;33m,\u001b[0m \u001b[0mrollno\u001b[0m\u001b[1;33m,\u001b[0m \u001b[0mmarks\u001b[0m\u001b[1;33m)\u001b[0m\u001b[1;33m:\u001b[0m   \u001b[1;31m# constructor\u001b[0m\u001b[1;33m\u001b[0m\u001b[1;33m\u001b[0m\u001b[0m\n",
      "\u001b[1;32mC:\\WINDOWS\\TEMP/ipykernel_10660/625168826.py\u001b[0m in \u001b[0;36mStudent\u001b[1;34m()\u001b[0m\n\u001b[0;32m     15\u001b[0m     \u001b[0mls\u001b[0m \u001b[1;33m=\u001b[0m \u001b[1;33m[\u001b[0m\u001b[1;33m]\u001b[0m\u001b[1;33m\u001b[0m\u001b[1;33m\u001b[0m\u001b[0m\n\u001b[0;32m     16\u001b[0m \u001b[1;33m\u001b[0m\u001b[0m\n\u001b[1;32m---> 17\u001b[1;33m     \u001b[0mls\u001b[0m\u001b[1;33m.\u001b[0m\u001b[0mappend\u001b[0m\u001b[1;33m(\u001b[0m\u001b[0mstudent\u001b[0m\u001b[1;33m(\u001b[0m\u001b[1;34m\"Khalid\"\u001b[0m\u001b[1;33m,\u001b[0m \u001b[1;36m18\u001b[0m\u001b[1;33m,\u001b[0m \u001b[1;36m45\u001b[0m\u001b[1;33m)\u001b[0m\u001b[1;33m)\u001b[0m\u001b[1;33m\u001b[0m\u001b[1;33m\u001b[0m\u001b[0m\n\u001b[0m\u001b[0;32m     18\u001b[0m     \u001b[0mls\u001b[0m\u001b[1;33m.\u001b[0m\u001b[0mappend\u001b[0m\u001b[1;33m(\u001b[0m\u001b[0mstudent\u001b[0m\u001b[1;33m(\u001b[0m\u001b[1;34m\"Aniket\"\u001b[0m\u001b[1;33m,\u001b[0m \u001b[1;36m28\u001b[0m\u001b[1;33m,\u001b[0m \u001b[1;36m85\u001b[0m\u001b[1;33m)\u001b[0m\u001b[1;33m)\u001b[0m\u001b[1;33m\u001b[0m\u001b[1;33m\u001b[0m\u001b[0m\n\u001b[0;32m     19\u001b[0m     \u001b[0mls\u001b[0m\u001b[1;33m.\u001b[0m\u001b[0mappend\u001b[0m\u001b[1;33m(\u001b[0m\u001b[0mstudent\u001b[0m\u001b[1;33m(\u001b[0m\u001b[1;34m\"sahil\"\u001b[0m\u001b[1;33m,\u001b[0m \u001b[1;36m8\u001b[0m\u001b[1;33m,\u001b[0m \u001b[1;36m75\u001b[0m\u001b[1;33m)\u001b[0m\u001b[1;33m)\u001b[0m\u001b[1;33m\u001b[0m\u001b[1;33m\u001b[0m\u001b[0m\n",
      "\u001b[1;31mNameError\u001b[0m: name 'student' is not defined"
     ]
    }
   ],
   "source": [
    "#simple student data management system.       (OR)\n",
    "\n",
    "# Create class Student\n",
    "\n",
    "class Student:\n",
    "    \n",
    "    def __init__(self, name, rollno, marks):   # constructor\n",
    "        self.name = name\n",
    "        self.rollno = rollno\n",
    "        self.marks = marks\n",
    "        \n",
    "# Create a list to add Students    \n",
    "    ls = []\n",
    "    \n",
    "    ls.append(student(\"Khalid\", 18, 45))\n",
    "    ls.append(student(\"Aniket\", 28, 85))\n",
    "    ls.append(student(\"sahil\", 8, 75))\n",
    "    \n",
    "    print(\"List of the students and their details\")\n",
    "    for obj in ls:\n",
    "        print(\"\\n\",\"name\", obj.name, \"\\n\",\"roll no: \", obj.rollno,\"\\n\",\"marks: \", obj.marks)"
   ]
  },
  {
   "cell_type": "code",
   "execution_count": null,
   "id": "601bd653",
   "metadata": {},
   "outputs": [],
   "source": []
  }
 ],
 "metadata": {
  "kernelspec": {
   "display_name": "Python 3 (ipykernel)",
   "language": "python",
   "name": "python3"
  },
  "language_info": {
   "codemirror_mode": {
    "name": "ipython",
    "version": 3
   },
   "file_extension": ".py",
   "mimetype": "text/x-python",
   "name": "python",
   "nbconvert_exporter": "python",
   "pygments_lexer": "ipython3",
   "version": "3.9.7"
  }
 },
 "nbformat": 4,
 "nbformat_minor": 5
}
