{
 "cells": [
  {
   "cell_type": "code",
   "execution_count": 9,
   "id": "edd47f0d",
   "metadata": {},
   "outputs": [
    {
     "name": "stdout",
     "output_type": "stream",
     "text": [
      "List of the employees and their details\n",
      "\n",
      " empname:  Khalid \n",
      " empid:  44018 \n",
      " designation:  Manager\n",
      "\n",
      " empname:  Aniket \n",
      " empid:  78528 \n",
      " designation:  HR\n",
      "\n",
      " empname:  sahil \n",
      " empid:  16828 \n",
      " designation:  SDE\n"
     ]
    }
   ],
   "source": [
    "#simple employee data management system.       (OR)\n",
    "\n",
    "# Create class employee\n",
    "\n",
    "class employee:\n",
    "    \n",
    "    def __init__(self, empname, empid, designation):   # constructor\n",
    "        self.empname = empname\n",
    "        self.empid = empid\n",
    "        self.designation = designation\n",
    "        \n",
    "# Create a list to add employees    \n",
    "ls = []\n",
    "    \n",
    "ls.append(employee(\"Khalid\", 44018, \"Manager\"))\n",
    "ls.append(employee(\"Aniket\", 78528, \"HR\"))\n",
    "ls.append(employee(\"sahil\", 16828, \"SDE\"))\n",
    "    \n",
    "print(\"List of the employees and their details\")\n",
    "for obj in ls:\n",
    "    print(\"\\n\",\"empname: \", obj.empname, \"\\n\",\"empid: \", obj.empid,\"\\n\",\"designation: \", obj.designation)"
   ]
  },
  {
   "cell_type": "code",
   "execution_count": null,
   "id": "8ee237bd",
   "metadata": {},
   "outputs": [],
   "source": []
  },
  {
   "cell_type": "code",
   "execution_count": null,
   "id": "1a76a151",
   "metadata": {},
   "outputs": [],
   "source": []
  }
 ],
 "metadata": {
  "kernelspec": {
   "display_name": "Python 3 (ipykernel)",
   "language": "python",
   "name": "python3"
  },
  "language_info": {
   "codemirror_mode": {
    "name": "ipython",
    "version": 3
   },
   "file_extension": ".py",
   "mimetype": "text/x-python",
   "name": "python",
   "nbconvert_exporter": "python",
   "pygments_lexer": "ipython3",
   "version": "3.9.7"
  }
 },
 "nbformat": 4,
 "nbformat_minor": 5
}
