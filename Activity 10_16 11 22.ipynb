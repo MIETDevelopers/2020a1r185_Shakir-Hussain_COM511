{
 "cells": [
  {
   "cell_type": "code",
   "execution_count": 2,
   "id": "15938af3",
   "metadata": {},
   "outputs": [
    {
     "name": "stdout",
     "output_type": "stream",
     "text": [
      "Enter the number, you want to find the factorial of: 5\n",
      "The factorial of 5 is 120\n"
     ]
    }
   ],
   "source": [
    "#python program to find the factorial of the number using recursion\n",
    "\n",
    "def factorial(n):\n",
    "   if n == 1:\n",
    "       return n\n",
    "   else:\n",
    "       return n*factorial(n-1)\n",
    "\n",
    "num = int(input(\"Enter the number, you want to find the factorial of: \"))\n",
    "\n",
    "# check if the number is negative\n",
    "if num < 0:\n",
    "   print(\"Sorry, factorial does not exist for negative numbers\")\n",
    "elif num == 0:\n",
    "   print(\"The factorial of 0 is 1\")\n",
    "else:\n",
    "   print(\"The factorial of\", num, \"is\", factorial(num))\n"
   ]
  },
  {
   "cell_type": "code",
   "execution_count": 3,
   "id": "c6b0e6c0",
   "metadata": {},
   "outputs": [
    {
     "name": "stdout",
     "output_type": "stream",
     "text": [
      "Enter the number of terms: 5\n",
      "Fibonacci series:\n",
      "0\n",
      "1\n",
      "1\n",
      "2\n",
      "3\n"
     ]
    }
   ],
   "source": [
    "#1.1) Python program to display the Fibonacci series/sequence using recursion.\n",
    "\n",
    "def fibo(n):\n",
    "   if n <= 1:\n",
    "       return n\n",
    "   else:\n",
    "       return(fibo(n-1) + fibo(n-2))\n",
    "\n",
    "nterms = int(input(\"Enter the number of terms: \"))\n",
    "\n",
    "# check if the number of terms is valid\n",
    "if nterms <= 0:\n",
    "   print(\"Plese enter a positive integer\")\n",
    "else:\n",
    "   print(\"Fibonacci series:\")\n",
    "   for i in range(nterms):\n",
    "       print(fibo(i))"
   ]
  },
  {
   "cell_type": "code",
   "execution_count": 4,
   "id": "32086edb",
   "metadata": {},
   "outputs": [
    {
     "name": "stdout",
     "output_type": "stream",
     "text": [
      "Enter the number of terms: -1\n",
      "Plese enter a positive integer\n"
     ]
    }
   ],
   "source": [
    "#1.2) Python program to display the Fibonacci series/sequence using recursion.\n",
    "\n",
    "def fibo(n):\n",
    "   if n <= 1:\n",
    "       return n\n",
    "   else:\n",
    "       return(fibo(n-1) + fibo(n-2))\n",
    "\n",
    "nterms = int(input(\"Enter the number of terms: \"))\n",
    "\n",
    "# check if the number of terms is valid\n",
    "if nterms <= 0:\n",
    "   print(\"Plese enter a positive integer\")\n",
    "else:\n",
    "   print(\"Fibonacci series:\")\n",
    "   for i in range(nterms):\n",
    "       print(fibo(i))"
   ]
  },
  {
   "cell_type": "code",
   "execution_count": 7,
   "id": "efc5f271",
   "metadata": {},
   "outputs": [
    {
     "name": "stdout",
     "output_type": "stream",
     "text": [
      "Enter the numberA: 12\n",
      "Enter the numberB: 25\n",
      "The gcd of 12 and 25 is: 1\n"
     ]
    }
   ],
   "source": [
    "#2.1 Python code to demonstrate naive method to compute gcd ( recursion )\n",
    " \n",
    "def hcf(a, b):\n",
    "    if(b == 0):\n",
    "        return abs(a)\n",
    "    else:\n",
    "        return hcf(b, a % b)\n",
    " \n",
    "a = int(input(\"Enter the numberA: \"))\n",
    "b = int(input(\"Enter the numberB: \"))\n",
    " \n",
    "# prints 12\n",
    "print(\"The gcd of\", a,\"and\", b,\"is: \", end=\"\")\n",
    "print(hcf(a, b))"
   ]
  },
  {
   "cell_type": "code",
   "execution_count": 8,
   "id": "66b5f95e",
   "metadata": {},
   "outputs": [
    {
     "name": "stdout",
     "output_type": "stream",
     "text": [
      "Enter the numberA: 45\n",
      "Enter the numberB: 12\n",
      "The gcd of 45 and 12 is: 3\n"
     ]
    }
   ],
   "source": [
    "#2.2 Python code to demonstrate naive method to compute gcd ( recursion )\n",
    " \n",
    "def hcf(a, b):\n",
    "    if(b == 0):\n",
    "        return abs(a)\n",
    "    else:\n",
    "        return hcf(b, a % b)\n",
    " \n",
    "a = int(input(\"Enter the numberA: \"))\n",
    "b = int(input(\"Enter the numberB: \"))\n",
    " \n",
    "# prints 12\n",
    "print(\"The gcd of\", a,\"and\", b,\"is: \", end=\"\")\n",
    "print(hcf(a, b))"
   ]
  },
  {
   "cell_type": "code",
   "execution_count": null,
   "id": "e728d153",
   "metadata": {},
   "outputs": [],
   "source": []
  }
 ],
 "metadata": {
  "kernelspec": {
   "display_name": "Python 3 (ipykernel)",
   "language": "python",
   "name": "python3"
  },
  "language_info": {
   "codemirror_mode": {
    "name": "ipython",
    "version": 3
   },
   "file_extension": ".py",
   "mimetype": "text/x-python",
   "name": "python",
   "nbconvert_exporter": "python",
   "pygments_lexer": "ipython3",
   "version": "3.9.7"
  }
 },
 "nbformat": 4,
 "nbformat_minor": 5
}
