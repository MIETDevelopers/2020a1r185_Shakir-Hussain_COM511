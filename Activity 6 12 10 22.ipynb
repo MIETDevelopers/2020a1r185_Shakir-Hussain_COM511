{
 "cells": [
  {
   "cell_type": "code",
   "execution_count": 2,
   "id": "25bdefbc",
   "metadata": {},
   "outputs": [
    {
     "name": "stdout",
     "output_type": "stream",
     "text": [
      "[68, 79, 14, 42]\n",
      "[30, 25, 8, 38]\n",
      "[6, 8, 1, 7]\n"
     ]
    }
   ],
   "source": [
    "# Program to multiply two matrices using nested loops\n",
    "\n",
    "# 3x3 matrix\n",
    "X = [[12, 1, 3],\n",
    "    [2, 3, 5],\n",
    "    [1 , 0, 1]]\n",
    "# 3x4 matrix\n",
    "Y = [[5,6,1,2],\n",
    "    [5,1,2,3],\n",
    "    [1,2,0,5]]\n",
    "# result is 3x4\n",
    "result = [[0,0,0,0],\n",
    "         [0,0,0,0],\n",
    "         [0,0,0,0]]\n",
    "\n",
    "# iterate through rows of X\n",
    "for i in range(len(X)):\n",
    "   # iterate through columns of Y\n",
    "   for j in range(len(Y[0])):\n",
    "       # iterate through rows of Y\n",
    "       for k in range(len(Y)):\n",
    "           result[i][j] += X[i][k] * Y[k][j]\n",
    "\n",
    "for m in result:\n",
    "   print(m)"
   ]
  },
  {
   "cell_type": "code",
   "execution_count": 3,
   "id": "63aa1c87",
   "metadata": {},
   "outputs": [
    {
     "name": "stdout",
     "output_type": "stream",
     "text": [
      "Enter the Number of rows  for the first matrix: 3\n",
      "Enter the Number of Columns for the first matrix: 2\n",
      "Enter the elements of First Matrix:\n",
      "1\n",
      "2\n",
      "3\n",
      "4\n",
      "5\n",
      "6\n",
      "First Matrix is: \n",
      "[1, 2]\n",
      "[3, 4]\n",
      "[5, 6]\n",
      "Enter the Number of column for the second matrix: 2\n",
      "Enter the elements of Second Matrix:\n",
      "9\n",
      "8\n",
      "7\n",
      "5\n",
      "[9, 8]\n",
      "[7, 5]\n",
      "\n",
      "Matrix_a X Matrix_b is: \n",
      "[23, 18]\n",
      "[55, 44]\n",
      "[87, 70]\n"
     ]
    }
   ],
   "source": [
    "rows_a = int(input(\"Enter the Number of rows  for the first matrix: \" ))\n",
    "column_a = int(input(\"Enter the Number of Columns for the first matrix: \"))\n",
    "\n",
    "print(\"Enter the elements of First Matrix:\")\n",
    "matrix_a= [[int(input()) for i in range(column_a)] for i in range(rows_a)]\n",
    "\n",
    "print(\"First Matrix is: \")\n",
    "for n in matrix_a:\n",
    "    print(n)\n",
    "#the number of columns of first matrix is equal to the number of rows of second matrix\n",
    "column_b = int(input(\"Enter the Number of column for the second matrix: \"))\n",
    "\n",
    "print(\"Enter the elements of Second Matrix:\")\n",
    "\n",
    "matrix_b= [[int(input()) for i in range(column_b)] for i in range(column_a)]\n",
    "for n in matrix_b:\n",
    "    print(n)\n",
    "    \n",
    "result=[[0 for i in range(column_b)] for i in range(rows_a)]\n",
    "\n",
    "for i in range(len(matrix_a)):\n",
    "    for j in range(len(matrix_b[0])):\n",
    "        for k in range(len(matrix_b)):\n",
    "            result [i][j]+=matrix_a[i][k]*matrix_b[k][j]\n",
    "print(\"\\nMatrix_a X Matrix_b is: \")\n",
    "for r in result:\n",
    "    print(r)"
   ]
  },
  {
   "cell_type": "code",
   "execution_count": null,
   "id": "0c2b9a10",
   "metadata": {},
   "outputs": [],
   "source": []
  },
  {
   "cell_type": "code",
   "execution_count": null,
   "id": "90a8f72a",
   "metadata": {},
   "outputs": [],
   "source": []
  }
 ],
 "metadata": {
  "kernelspec": {
   "display_name": "Python 3 (ipykernel)",
   "language": "python",
   "name": "python3"
  },
  "language_info": {
   "codemirror_mode": {
    "name": "ipython",
    "version": 3
   },
   "file_extension": ".py",
   "mimetype": "text/x-python",
   "name": "python",
   "nbconvert_exporter": "python",
   "pygments_lexer": "ipython3",
   "version": "3.9.7"
  }
 },
 "nbformat": 4,
 "nbformat_minor": 5
}
