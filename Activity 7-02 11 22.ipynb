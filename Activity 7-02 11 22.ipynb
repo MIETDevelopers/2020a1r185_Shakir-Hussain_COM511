{
 "cells": [
  {
   "cell_type": "code",
   "execution_count": 1,
   "id": "af9d6744",
   "metadata": {},
   "outputs": [
    {
     "name": "stdout",
     "output_type": "stream",
     "text": [
      "37.000 degree celsius is equivalent to : 98.600 degree fahrenheit\n"
     ]
    }
   ],
   "source": [
    "#program to convert temperature from celsius to fahernheit\n",
    "#F= (c*9/5)+32  or F= (c*1.8)+32\n",
    "celsius = 37\n",
    "fahrenheit=(celsius*1.8)+32\n",
    "print('%0.3f degree celsius is equivalent to : %0.3f degree fahrenheit' %(celsius, fahrenheit))"
   ]
  },
  {
   "cell_type": "code",
   "execution_count": 2,
   "id": "2d8fceb1",
   "metadata": {},
   "outputs": [
    {
     "name": "stdout",
     "output_type": "stream",
     "text": [
      "Enter the temperature in degrees celsius: 37\n",
      "37.00 degree celsius is 98.60 fahrenheit\n"
     ]
    }
   ],
   "source": [
    "#program to convert temperature from celsius to fahrenheit and vice-versa taking input from the user.\n",
    "# c to f\n",
    "celcius = float(input(\"Enter the temperature in degrees celsius: \"))\n",
    "fahrenheit=(celsius*1.8)+32\n",
    "print('%0.2f degree celsius is %.2f fahrenheit' %(celsius, fahrenheit))"
   ]
  },
  {
   "cell_type": "code",
   "execution_count": 3,
   "id": "a7e2c17b",
   "metadata": {},
   "outputs": [
    {
     "name": "stdout",
     "output_type": "stream",
     "text": [
      "Enter the temperature in degree fahrenheit: 221\n",
      "221.00 degree fahrenheit is 850.50 degree celsius\n"
     ]
    }
   ],
   "source": [
    "#F to c\n",
    "\n",
    "fahrenheit = float(input(\"Enter the temperature in degree fahrenheit: \"))\n",
    "celsius=(fahrenheit-32)*9/2\n",
    "print('%.2f degree fahrenheit is %.2f degree celsius' %(fahrenheit, celsius))\n"
   ]
  },
  {
   "cell_type": "code",
   "execution_count": 5,
   "id": "cece6289",
   "metadata": {},
   "outputs": [
    {
     "name": "stdout",
     "output_type": "stream",
     "text": [
      "Enter the temperature value in degree celsius: 37\n",
      "37.0 degree celsius is equivalent to 98.60 degree fahrenheit\n"
     ]
    }
   ],
   "source": [
    "# conversion using function\n",
    "def convert(c):    #user defined function\n",
    "    f=(c*1.8)+32  #fahrenheit is == \n",
    "    return(f)\n",
    "#Take input\n",
    "celsius=float(input(\"Enter the temperature value in degree celsius: \"))\n",
    "#calling the function and display result\n",
    "fahrenheit=convert(celsius)\n",
    "print('%.1f degree celsius is equivalent to %.2f degree fahrenheit' %(celsius, fahrenheit))"
   ]
  },
  {
   "cell_type": "code",
   "execution_count": 8,
   "id": "60628684",
   "metadata": {},
   "outputs": [
    {
     "name": "stdout",
     "output_type": "stream",
     "text": [
      "1. To convert from celsius to fahrenheit\n",
      "2. To convert from fahrenheit to celsius\n",
      "Enter your choice = 1\n",
      "Enter celsius temp. = 37\n",
      "Fahrenheit temp. =  98.60000000000001\n",
      "1. To convert from celsius to fahrenheit\n",
      "2. To convert from fahrenheit to celsius\n",
      "Enter your choice = 2\n",
      "Enter Fehrenheit temp. = 98.6\n",
      "celsius temp. =  37.0\n",
      "1. To convert from celsius to fahrenheit\n",
      "2. To convert from fahrenheit to celsius\n",
      "Enter your choice = 98\n",
      "Enter valid choice\n"
     ]
    }
   ],
   "source": [
    "i=1\n",
    "while i==1:\n",
    "    print(\"1. To convert from celsius to fahrenheit\")\n",
    "    print(\"2. To convert from fahrenheit to celsius\")\n",
    "    ch=int(input(\"Enter your choice = \"))\n",
    "    \n",
    "    if(ch==1):\n",
    "        c=float(input(\"Enter celsius temp. = \"))\n",
    "        f=(c*1.8)+32\n",
    "        print(\"Fahrenheit temp. = \", f)\n",
    "    if(ch==2):\n",
    "        f=float(input(\"Enter Fehrenheit temp. = \"))\n",
    "        c=(f-32)*5/9\n",
    "        print(\"celsius temp. = \", c)\n",
    "    if(ch>=3):\n",
    "        print(\"Enter valid choice\")\n",
    "        i=0"
   ]
  },
  {
   "cell_type": "code",
   "execution_count": null,
   "id": "794be9d5",
   "metadata": {},
   "outputs": [],
   "source": []
  }
 ],
 "metadata": {
  "kernelspec": {
   "display_name": "Python 3 (ipykernel)",
   "language": "python",
   "name": "python3"
  },
  "language_info": {
   "codemirror_mode": {
    "name": "ipython",
    "version": 3
   },
   "file_extension": ".py",
   "mimetype": "text/x-python",
   "name": "python",
   "nbconvert_exporter": "python",
   "pygments_lexer": "ipython3",
   "version": "3.9.7"
  }
 },
 "nbformat": 4,
 "nbformat_minor": 5
}
